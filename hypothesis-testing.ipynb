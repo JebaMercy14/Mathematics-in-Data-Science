{
 "cells": [
  {
   "cell_type": "code",
   "execution_count": 1,
   "id": "aabd768e",
   "metadata": {
    "_cell_guid": "b1076dfc-b9ad-4769-8c92-a6c4dae69d19",
    "_uuid": "8f2839f25d086af736a60e9eeb907d3b93b6e0e5",
    "execution": {
     "iopub.execute_input": "2024-07-27T16:59:08.180436Z",
     "iopub.status.busy": "2024-07-27T16:59:08.179106Z",
     "iopub.status.idle": "2024-07-27T16:59:09.417105Z",
     "shell.execute_reply": "2024-07-27T16:59:09.415946Z"
    },
    "papermill": {
     "duration": 1.246997,
     "end_time": "2024-07-27T16:59:09.419890",
     "exception": false,
     "start_time": "2024-07-27T16:59:08.172893",
     "status": "completed"
    },
    "tags": []
   },
   "outputs": [],
   "source": [
    "import numpy as np\n",
    "from scipy import stats"
   ]
  },
  {
   "cell_type": "code",
   "execution_count": 2,
   "id": "7f63ea5f",
   "metadata": {
    "execution": {
     "iopub.execute_input": "2024-07-27T16:59:09.430331Z",
     "iopub.status.busy": "2024-07-27T16:59:09.429904Z",
     "iopub.status.idle": "2024-07-27T16:59:09.436248Z",
     "shell.execute_reply": "2024-07-27T16:59:09.435051Z"
    },
    "papermill": {
     "duration": 0.014133,
     "end_time": "2024-07-27T16:59:09.438729",
     "exception": false,
     "start_time": "2024-07-27T16:59:09.424596",
     "status": "completed"
    },
    "tags": []
   },
   "outputs": [],
   "source": [
    "# Data\n",
    "before_treatment = np.array([120, 122, 118, 130, 125, 128, 115, 121, 123, 119])\n",
    "after_treatment = np.array([115, 120, 112, 128, 122, 125, 110, 117, 119, 114])"
   ]
  },
  {
   "cell_type": "code",
   "execution_count": 3,
   "id": "e1273153",
   "metadata": {
    "execution": {
     "iopub.execute_input": "2024-07-27T16:59:09.448668Z",
     "iopub.status.busy": "2024-07-27T16:59:09.448301Z",
     "iopub.status.idle": "2024-07-27T16:59:09.453458Z",
     "shell.execute_reply": "2024-07-27T16:59:09.452319Z"
    },
    "papermill": {
     "duration": 0.012804,
     "end_time": "2024-07-27T16:59:09.455833",
     "exception": false,
     "start_time": "2024-07-27T16:59:09.443029",
     "status": "completed"
    },
    "tags": []
   },
   "outputs": [],
   "source": [
    "# Step 1: Null and Alternate Hypotheses\n",
    "# Null Hypothesis: The new drug has no effect on blood pressure.\n",
    "# Alternate Hypothesis: The new drug has an effect on blood pressure.\n",
    "null_hypothesis = \"The new drug has no effect on blood pressure.\"\n",
    "alternate_hypothesis = \"The new drug has an effect on blood pressure.\""
   ]
  },
  {
   "cell_type": "code",
   "execution_count": 4,
   "id": "c54be0f6",
   "metadata": {
    "execution": {
     "iopub.execute_input": "2024-07-27T16:59:09.465774Z",
     "iopub.status.busy": "2024-07-27T16:59:09.465373Z",
     "iopub.status.idle": "2024-07-27T16:59:09.470237Z",
     "shell.execute_reply": "2024-07-27T16:59:09.469001Z"
    },
    "papermill": {
     "duration": 0.012859,
     "end_time": "2024-07-27T16:59:09.472907",
     "exception": false,
     "start_time": "2024-07-27T16:59:09.460048",
     "status": "completed"
    },
    "tags": []
   },
   "outputs": [],
   "source": [
    "# Step 2: Significance Level\n",
    "alpha = 0.05"
   ]
  },
  {
   "cell_type": "code",
   "execution_count": 5,
   "id": "cee666d3",
   "metadata": {
    "execution": {
     "iopub.execute_input": "2024-07-27T16:59:09.482549Z",
     "iopub.status.busy": "2024-07-27T16:59:09.482173Z",
     "iopub.status.idle": "2024-07-27T16:59:09.496939Z",
     "shell.execute_reply": "2024-07-27T16:59:09.495851Z"
    },
    "papermill": {
     "duration": 0.022655,
     "end_time": "2024-07-27T16:59:09.499607",
     "exception": false,
     "start_time": "2024-07-27T16:59:09.476952",
     "status": "completed"
    },
    "tags": []
   },
   "outputs": [],
   "source": [
    "# Step 3: Paired T-test\n",
    "t_statistic, p_value = stats.ttest_rel(after_treatment, before_treatment)"
   ]
  },
  {
   "cell_type": "code",
   "execution_count": 6,
   "id": "46998b45",
   "metadata": {
    "execution": {
     "iopub.execute_input": "2024-07-27T16:59:09.510097Z",
     "iopub.status.busy": "2024-07-27T16:59:09.509055Z",
     "iopub.status.idle": "2024-07-27T16:59:09.515881Z",
     "shell.execute_reply": "2024-07-27T16:59:09.514726Z"
    },
    "papermill": {
     "duration": 0.014808,
     "end_time": "2024-07-27T16:59:09.518557",
     "exception": false,
     "start_time": "2024-07-27T16:59:09.503749",
     "status": "completed"
    },
    "tags": []
   },
   "outputs": [],
   "source": [
    "# Step 4: Calculate T-statistic manually\n",
    "m = np.mean(after_treatment - before_treatment)\n",
    "s = np.std(after_treatment - before_treatment, ddof=1)  # using ddof=1 for sample standard deviation\n",
    "n = len(before_treatment)\n",
    "t_statistic_manual = m / (s / np.sqrt(n))"
   ]
  },
  {
   "cell_type": "code",
   "execution_count": 7,
   "id": "9480f422",
   "metadata": {
    "execution": {
     "iopub.execute_input": "2024-07-27T16:59:09.528371Z",
     "iopub.status.busy": "2024-07-27T16:59:09.527899Z",
     "iopub.status.idle": "2024-07-27T16:59:09.534381Z",
     "shell.execute_reply": "2024-07-27T16:59:09.533158Z"
    },
    "papermill": {
     "duration": 0.014519,
     "end_time": "2024-07-27T16:59:09.537114",
     "exception": false,
     "start_time": "2024-07-27T16:59:09.522595",
     "status": "completed"
    },
    "tags": []
   },
   "outputs": [],
   "source": [
    "# Step 5: Decision\n",
    "if p_value <= alpha:\n",
    "    decision = \"Reject\"\n",
    "else:\n",
    "    decision = \"Fail to reject\"\n",
    "\n",
    "# Conclusion\n",
    "if decision == \"Reject\":\n",
    "    conclusion = \"There is statistically significant evidence that the average blood pressure before and after treatment with the new drug is different.\"\n",
    "else:\n",
    "    conclusion = \"There is insufficient evidence to claim a significant difference in average blood pressure before and after treatment with the new drug.\""
   ]
  },
  {
   "cell_type": "code",
   "execution_count": 8,
   "id": "bf2afd9d",
   "metadata": {
    "execution": {
     "iopub.execute_input": "2024-07-27T16:59:09.547030Z",
     "iopub.status.busy": "2024-07-27T16:59:09.546582Z",
     "iopub.status.idle": "2024-07-27T16:59:09.553783Z",
     "shell.execute_reply": "2024-07-27T16:59:09.552459Z"
    },
    "papermill": {
     "duration": 0.015236,
     "end_time": "2024-07-27T16:59:09.556463",
     "exception": false,
     "start_time": "2024-07-27T16:59:09.541227",
     "status": "completed"
    },
    "tags": []
   },
   "outputs": [
    {
     "name": "stdout",
     "output_type": "stream",
     "text": [
      "T-statistic (from scipy): -9.0\n",
      "P-value (from scipy): 8.538051223166285e-06\n",
      "T-statistic (calculated manually): -9.0\n",
      "Decision: Reject the null hypothesis at alpha=0.05.\n",
      "Conclusion: There is statistically significant evidence that the average blood pressure before and after treatment with the new drug is different.\n"
     ]
    }
   ],
   "source": [
    "# Display results\n",
    "print(\"T-statistic (from scipy):\", t_statistic)\n",
    "print(\"P-value (from scipy):\", p_value)\n",
    "print(\"T-statistic (calculated manually):\", t_statistic_manual)\n",
    "print(f\"Decision: {decision} the null hypothesis at alpha={alpha}.\")\n",
    "print(\"Conclusion:\", conclusion)"
   ]
  },
  {
   "cell_type": "code",
   "execution_count": null,
   "id": "787aa608",
   "metadata": {
    "papermill": {
     "duration": 0.003884,
     "end_time": "2024-07-27T16:59:09.564828",
     "exception": false,
     "start_time": "2024-07-27T16:59:09.560944",
     "status": "completed"
    },
    "tags": []
   },
   "outputs": [],
   "source": []
  }
 ],
 "metadata": {
  "kaggle": {
   "accelerator": "none",
   "dataSources": [],
   "dockerImageVersionId": 30746,
   "isGpuEnabled": false,
   "isInternetEnabled": true,
   "language": "python",
   "sourceType": "notebook"
  },
  "kernelspec": {
   "display_name": "Python 3",
   "language": "python",
   "name": "python3"
  },
  "language_info": {
   "codemirror_mode": {
    "name": "ipython",
    "version": 3
   },
   "file_extension": ".py",
   "mimetype": "text/x-python",
   "name": "python",
   "nbconvert_exporter": "python",
   "pygments_lexer": "ipython3",
   "version": "3.10.13"
  },
  "papermill": {
   "default_parameters": {},
   "duration": 5.122606,
   "end_time": "2024-07-27T16:59:10.091117",
   "environment_variables": {},
   "exception": null,
   "input_path": "__notebook__.ipynb",
   "output_path": "__notebook__.ipynb",
   "parameters": {},
   "start_time": "2024-07-27T16:59:04.968511",
   "version": "2.5.0"
  }
 },
 "nbformat": 4,
 "nbformat_minor": 5
}
