{
 "cells": [
  {
   "cell_type": "markdown",
   "id": "82bb46d3",
   "metadata": {
    "papermill": {
     "duration": 0.005556,
     "end_time": "2024-07-27T17:21:16.588695",
     "exception": false,
     "start_time": "2024-07-27T17:21:16.583139",
     "status": "completed"
    },
    "tags": []
   },
   "source": [
    "# What is Confidence Interval?\n",
    "Confidence Interval is a range where we are certain that true value exists. The selection of a confidence level for an interval determines the probability that the confidence interval will contain the true parameter value. This range of values is generally used to deal with population-based data, extracting specific, valuable information with a certain amount of confidence, hence the term ‘Confidence Interval’."
   ]
  },
  {
   "cell_type": "markdown",
   "id": "d991b2b6",
   "metadata": {
    "papermill": {
     "duration": 0.004732,
     "end_time": "2024-07-27T17:21:16.598719",
     "exception": false,
     "start_time": "2024-07-27T17:21:16.593987",
     "status": "completed"
    },
    "tags": []
   },
   "source": [
    "# A) Using t-distribution "
   ]
  },
  {
   "cell_type": "code",
   "execution_count": 1,
   "id": "2ecac31a",
   "metadata": {
    "execution": {
     "iopub.execute_input": "2024-07-27T17:21:16.610774Z",
     "iopub.status.busy": "2024-07-27T17:21:16.610331Z",
     "iopub.status.idle": "2024-07-27T17:21:17.710769Z",
     "shell.execute_reply": "2024-07-27T17:21:17.709746Z"
    },
    "papermill": {
     "duration": 1.109854,
     "end_time": "2024-07-27T17:21:17.713602",
     "exception": false,
     "start_time": "2024-07-27T17:21:16.603748",
     "status": "completed"
    },
    "tags": []
   },
   "outputs": [],
   "source": [
    "import scipy.stats as stats\n",
    "import math"
   ]
  },
  {
   "cell_type": "code",
   "execution_count": 2,
   "id": "c9f2824d",
   "metadata": {
    "execution": {
     "iopub.execute_input": "2024-07-27T17:21:17.726463Z",
     "iopub.status.busy": "2024-07-27T17:21:17.726045Z",
     "iopub.status.idle": "2024-07-27T17:21:17.731759Z",
     "shell.execute_reply": "2024-07-27T17:21:17.730565Z"
    },
    "papermill": {
     "duration": 0.01527,
     "end_time": "2024-07-27T17:21:17.734279",
     "exception": false,
     "start_time": "2024-07-27T17:21:17.719009",
     "status": "completed"
    },
    "tags": []
   },
   "outputs": [],
   "source": [
    "# Given values\n",
    "sample_mean = 240\n",
    "sample_std_dev = 25\n",
    "sample_size = 10\n",
    "confidence_level = 0.95"
   ]
  },
  {
   "cell_type": "code",
   "execution_count": 3,
   "id": "5237b76a",
   "metadata": {
    "execution": {
     "iopub.execute_input": "2024-07-27T17:21:17.746921Z",
     "iopub.status.busy": "2024-07-27T17:21:17.745957Z",
     "iopub.status.idle": "2024-07-27T17:21:17.751259Z",
     "shell.execute_reply": "2024-07-27T17:21:17.749948Z"
    },
    "papermill": {
     "duration": 0.014106,
     "end_time": "2024-07-27T17:21:17.753613",
     "exception": false,
     "start_time": "2024-07-27T17:21:17.739507",
     "status": "completed"
    },
    "tags": []
   },
   "outputs": [],
   "source": [
    "# DF\n",
    "df = sample_size - 1"
   ]
  },
  {
   "cell_type": "code",
   "execution_count": 4,
   "id": "476a2e48",
   "metadata": {
    "execution": {
     "iopub.execute_input": "2024-07-27T17:21:17.765433Z",
     "iopub.status.busy": "2024-07-27T17:21:17.765019Z",
     "iopub.status.idle": "2024-07-27T17:21:17.769927Z",
     "shell.execute_reply": "2024-07-27T17:21:17.768798Z"
    },
    "papermill": {
     "duration": 0.013405,
     "end_time": "2024-07-27T17:21:17.772131",
     "exception": false,
     "start_time": "2024-07-27T17:21:17.758726",
     "status": "completed"
    },
    "tags": []
   },
   "outputs": [],
   "source": [
    "# Significance level (α)\n",
    "alpha = (1 - confidence_level) / 2"
   ]
  },
  {
   "cell_type": "code",
   "execution_count": 5,
   "id": "13b4ff9d",
   "metadata": {
    "execution": {
     "iopub.execute_input": "2024-07-27T17:21:17.785417Z",
     "iopub.status.busy": "2024-07-27T17:21:17.784235Z",
     "iopub.status.idle": "2024-07-27T17:21:17.794148Z",
     "shell.execute_reply": "2024-07-27T17:21:17.792906Z"
    },
    "papermill": {
     "duration": 0.019686,
     "end_time": "2024-07-27T17:21:17.797353",
     "exception": false,
     "start_time": "2024-07-27T17:21:17.777667",
     "status": "completed"
    },
    "tags": []
   },
   "outputs": [
    {
     "name": "stdout",
     "output_type": "stream",
     "text": [
      "Confidence Interval: (222.1160773511857, 257.8839226488143)\n"
     ]
    }
   ],
   "source": [
    "# t-value from the t-distribution table\n",
    "t_value = stats.t.ppf(1 - alpha, df)\n",
    " \n",
    "margin_of_error = t_value * (sample_std_dev / math.sqrt(sample_size))\n",
    " \n",
    "lower_limit = sample_mean - margin_of_error\n",
    "upper_limit = sample_mean + margin_of_error\n",
    " \n",
    "print(f\"Confidence Interval: ({lower_limit}, {upper_limit})\")"
   ]
  },
  {
   "cell_type": "markdown",
   "id": "761ab265",
   "metadata": {
    "papermill": {
     "duration": 0.004881,
     "end_time": "2024-07-27T17:21:17.807642",
     "exception": false,
     "start_time": "2024-07-27T17:21:17.802761",
     "status": "completed"
    },
    "tags": []
   },
   "source": [
    "# B) Using a z-distribution"
   ]
  },
  {
   "cell_type": "code",
   "execution_count": 6,
   "id": "725de2f6",
   "metadata": {
    "execution": {
     "iopub.execute_input": "2024-07-27T17:21:17.820185Z",
     "iopub.status.busy": "2024-07-27T17:21:17.819419Z",
     "iopub.status.idle": "2024-07-27T17:21:17.824326Z",
     "shell.execute_reply": "2024-07-27T17:21:17.823236Z"
    },
    "papermill": {
     "duration": 0.014001,
     "end_time": "2024-07-27T17:21:17.826809",
     "exception": false,
     "start_time": "2024-07-27T17:21:17.812808",
     "status": "completed"
    },
    "tags": []
   },
   "outputs": [],
   "source": [
    "from scipy import stats\n",
    "import numpy as np"
   ]
  },
  {
   "cell_type": "code",
   "execution_count": 7,
   "id": "7a573258",
   "metadata": {
    "execution": {
     "iopub.execute_input": "2024-07-27T17:21:17.840997Z",
     "iopub.status.busy": "2024-07-27T17:21:17.840079Z",
     "iopub.status.idle": "2024-07-27T17:21:17.845653Z",
     "shell.execute_reply": "2024-07-27T17:21:17.844466Z"
    },
    "papermill": {
     "duration": 0.016178,
     "end_time": "2024-07-27T17:21:17.848280",
     "exception": false,
     "start_time": "2024-07-27T17:21:17.832102",
     "status": "completed"
    },
    "tags": []
   },
   "outputs": [],
   "source": [
    "sample_mean = 4.63\n",
    "std_dev = 0.54\n",
    "sample_size = 50\n",
    "confidence_level = 0.95"
   ]
  },
  {
   "cell_type": "code",
   "execution_count": 8,
   "id": "3015c6ad",
   "metadata": {
    "execution": {
     "iopub.execute_input": "2024-07-27T17:21:17.860933Z",
     "iopub.status.busy": "2024-07-27T17:21:17.860197Z",
     "iopub.status.idle": "2024-07-27T17:21:17.865488Z",
     "shell.execute_reply": "2024-07-27T17:21:17.864184Z"
    },
    "papermill": {
     "duration": 0.014425,
     "end_time": "2024-07-27T17:21:17.867972",
     "exception": false,
     "start_time": "2024-07-27T17:21:17.853547",
     "status": "completed"
    },
    "tags": []
   },
   "outputs": [],
   "source": [
    "# Standard error\n",
    "standard_error = std_dev / np.sqrt(sample_size)"
   ]
  },
  {
   "cell_type": "code",
   "execution_count": 9,
   "id": "0a4152a1",
   "metadata": {
    "execution": {
     "iopub.execute_input": "2024-07-27T17:21:17.880366Z",
     "iopub.status.busy": "2024-07-27T17:21:17.879918Z",
     "iopub.status.idle": "2024-07-27T17:21:17.884925Z",
     "shell.execute_reply": "2024-07-27T17:21:17.883844Z"
    },
    "papermill": {
     "duration": 0.013801,
     "end_time": "2024-07-27T17:21:17.887272",
     "exception": false,
     "start_time": "2024-07-27T17:21:17.873471",
     "status": "completed"
    },
    "tags": []
   },
   "outputs": [],
   "source": [
    "# z-value for specified confidence interval\n",
    "z_value = 1.960  # Taken from table for a 95% confidence interval\n"
   ]
  },
  {
   "cell_type": "code",
   "execution_count": 10,
   "id": "301d0ce9",
   "metadata": {
    "execution": {
     "iopub.execute_input": "2024-07-27T17:21:17.899318Z",
     "iopub.status.busy": "2024-07-27T17:21:17.898939Z",
     "iopub.status.idle": "2024-07-27T17:21:17.905442Z",
     "shell.execute_reply": "2024-07-27T17:21:17.904213Z"
    },
    "papermill": {
     "duration": 0.016108,
     "end_time": "2024-07-27T17:21:17.908663",
     "exception": false,
     "start_time": "2024-07-27T17:21:17.892555",
     "status": "completed"
    },
    "tags": []
   },
   "outputs": [
    {
     "name": "stdout",
     "output_type": "stream",
     "text": [
      "Confidence Interval: (4.480, 4.780)\n"
     ]
    }
   ],
   "source": [
    " \n",
    "margin_of_error = z_value * (std_dev / math.sqrt(sample_size))\n",
    " \n",
    "lower_limit = sample_mean - margin_of_error\n",
    "upper_limit = sample_mean + margin_of_error\n",
    " \n",
    "print(f\"Confidence Interval: ({lower_limit:.3f}, {upper_limit:.3f})\")"
   ]
  },
  {
   "cell_type": "code",
   "execution_count": null,
   "id": "7dcb7635",
   "metadata": {
    "papermill": {
     "duration": 0.005578,
     "end_time": "2024-07-27T17:21:17.919676",
     "exception": false,
     "start_time": "2024-07-27T17:21:17.914098",
     "status": "completed"
    },
    "tags": []
   },
   "outputs": [],
   "source": []
  }
 ],
 "metadata": {
  "kaggle": {
   "accelerator": "none",
   "dataSources": [],
   "dockerImageVersionId": 30746,
   "isGpuEnabled": false,
   "isInternetEnabled": true,
   "language": "python",
   "sourceType": "notebook"
  },
  "kernelspec": {
   "display_name": "Python 3",
   "language": "python",
   "name": "python3"
  },
  "language_info": {
   "codemirror_mode": {
    "name": "ipython",
    "version": 3
   },
   "file_extension": ".py",
   "mimetype": "text/x-python",
   "name": "python",
   "nbconvert_exporter": "python",
   "pygments_lexer": "ipython3",
   "version": "3.10.13"
  },
  "papermill": {
   "default_parameters": {},
   "duration": 4.829102,
   "end_time": "2024-07-27T17:21:18.345899",
   "environment_variables": {},
   "exception": null,
   "input_path": "__notebook__.ipynb",
   "output_path": "__notebook__.ipynb",
   "parameters": {},
   "start_time": "2024-07-27T17:21:13.516797",
   "version": "2.5.0"
  }
 },
 "nbformat": 4,
 "nbformat_minor": 5
}
