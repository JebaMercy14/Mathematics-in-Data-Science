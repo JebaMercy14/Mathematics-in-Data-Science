{
 "cells": [
  {
   "cell_type": "markdown",
   "id": "58f34924",
   "metadata": {
    "papermill": {
     "duration": 0.002792,
     "end_time": "2024-07-27T18:24:37.574923",
     "exception": false,
     "start_time": "2024-07-27T18:24:37.572131",
     "status": "completed"
    },
    "tags": []
   },
   "source": [
    "# Z-Score in Statistics\n",
    "Z-Score in Statistics is a measurement of how many standard deviations a data point is from the mean of a distribution. Let’s find z score in statistics. A z-score of 0 indicates that the data point’s score is the same as the mean score. A positive z-score indicates that the data point is above average, while a negative z-score indicates that the data point is below average.\n",
    "\n",
    "The formula for calculating a z-score is:\n",
    "\n",
    "z = (x – μ)/ σ\n",
    "\n",
    "Where:\n",
    "* x: is the test value\n",
    "* μ: is the mean\n",
    "* σ: is the standard value"
   ]
  },
  {
   "cell_type": "code",
   "execution_count": 1,
   "id": "b416e26c",
   "metadata": {
    "execution": {
     "iopub.execute_input": "2024-07-27T18:24:37.581744Z",
     "iopub.status.busy": "2024-07-27T18:24:37.581331Z",
     "iopub.status.idle": "2024-07-27T18:24:37.592594Z",
     "shell.execute_reply": "2024-07-27T18:24:37.591472Z"
    },
    "papermill": {
     "duration": 0.01735,
     "end_time": "2024-07-27T18:24:37.594977",
     "exception": false,
     "start_time": "2024-07-27T18:24:37.577627",
     "status": "completed"
    },
    "tags": []
   },
   "outputs": [],
   "source": [
    "import numpy as np"
   ]
  },
  {
   "cell_type": "code",
   "execution_count": 2,
   "id": "deb43d90",
   "metadata": {
    "execution": {
     "iopub.execute_input": "2024-07-27T18:24:37.601581Z",
     "iopub.status.busy": "2024-07-27T18:24:37.601168Z",
     "iopub.status.idle": "2024-07-27T18:24:37.606879Z",
     "shell.execute_reply": "2024-07-27T18:24:37.605832Z"
    },
    "papermill": {
     "duration": 0.011731,
     "end_time": "2024-07-27T18:24:37.609198",
     "exception": false,
     "start_time": "2024-07-27T18:24:37.597467",
     "status": "completed"
    },
    "tags": []
   },
   "outputs": [],
   "source": [
    "def calculate_z_score(data):\n",
    "  # Mean of the dataset \n",
    "    mean = np.mean(data)\n",
    "   # Standard Deviation of tha dataset \n",
    "    std_dev = np.std(data)\n",
    "   # Z-score of tha data points \n",
    "    z_scores = (data - mean) / std_dev\n",
    "    return z_scores"
   ]
  },
  {
   "cell_type": "code",
   "execution_count": 3,
   "id": "94c6fce6",
   "metadata": {
    "execution": {
     "iopub.execute_input": "2024-07-27T18:24:37.616450Z",
     "iopub.status.busy": "2024-07-27T18:24:37.616029Z",
     "iopub.status.idle": "2024-07-27T18:24:37.624602Z",
     "shell.execute_reply": "2024-07-27T18:24:37.623390Z"
    },
    "papermill": {
     "duration": 0.015308,
     "end_time": "2024-07-27T18:24:37.627233",
     "exception": false,
     "start_time": "2024-07-27T18:24:37.611925",
     "status": "completed"
    },
    "tags": []
   },
   "outputs": [
    {
     "name": "stdout",
     "output_type": "stream",
     "text": [
      "Z-Score : [-0.7574907  -0.59097335 -0.20243286  0.35262498  0.6301539  -0.72973781\n",
      " -0.70198492 -0.00816262  0.13060185  0.54689523  1.10195307  3.32218443\n",
      " -0.67423202 -0.64647913 -0.61872624 -0.59097335 -0.56322046]\n"
     ]
    }
   ],
   "source": [
    "# Example dataset \n",
    "dataset = [3,9, 23, 43,53, 4, 5,30, 35, 50, 70, 150, 6, 7, 8, 9, 10]\n",
    "z_scores = calculate_z_score(dataset)\n",
    "print('Z-Score :',z_scores)"
   ]
  },
  {
   "cell_type": "code",
   "execution_count": 4,
   "id": "a0c40c5b",
   "metadata": {
    "execution": {
     "iopub.execute_input": "2024-07-27T18:24:37.633967Z",
     "iopub.status.busy": "2024-07-27T18:24:37.633583Z",
     "iopub.status.idle": "2024-07-27T18:24:37.640193Z",
     "shell.execute_reply": "2024-07-27T18:24:37.638831Z"
    },
    "papermill": {
     "duration": 0.013157,
     "end_time": "2024-07-27T18:24:37.642989",
     "exception": false,
     "start_time": "2024-07-27T18:24:37.629832",
     "status": "completed"
    },
    "tags": []
   },
   "outputs": [
    {
     "name": "stdout",
     "output_type": "stream",
     "text": [
      "\n",
      "The outliers in the dataset is [150]\n"
     ]
    }
   ],
   "source": [
    "# Data points which lies outside 3 standard deviatioms are outliers \n",
    "# i.e outside range of99.73% values\n",
    "outliers = [data_point for data_point, \\\n",
    "          z_score in zip(dataset, z_scores) if z_score > 3]\n",
    "print(f'\\nThe outliers in the dataset is {outliers}')"
   ]
  },
  {
   "cell_type": "code",
   "execution_count": null,
   "id": "f1c711f6",
   "metadata": {
    "papermill": {
     "duration": 0.002704,
     "end_time": "2024-07-27T18:24:37.648909",
     "exception": false,
     "start_time": "2024-07-27T18:24:37.646205",
     "status": "completed"
    },
    "tags": []
   },
   "outputs": [],
   "source": []
  }
 ],
 "metadata": {
  "kaggle": {
   "accelerator": "none",
   "dataSources": [],
   "dockerImageVersionId": 30746,
   "isGpuEnabled": false,
   "isInternetEnabled": true,
   "language": "python",
   "sourceType": "notebook"
  },
  "kernelspec": {
   "display_name": "Python 3",
   "language": "python",
   "name": "python3"
  },
  "language_info": {
   "codemirror_mode": {
    "name": "ipython",
    "version": 3
   },
   "file_extension": ".py",
   "mimetype": "text/x-python",
   "name": "python",
   "nbconvert_exporter": "python",
   "pygments_lexer": "ipython3",
   "version": "3.10.13"
  },
  "papermill": {
   "default_parameters": {},
   "duration": 6.526736,
   "end_time": "2024-07-27T18:24:40.709317",
   "environment_variables": {},
   "exception": null,
   "input_path": "__notebook__.ipynb",
   "output_path": "__notebook__.ipynb",
   "parameters": {},
   "start_time": "2024-07-27T18:24:34.182581",
   "version": "2.5.0"
  }
 },
 "nbformat": 4,
 "nbformat_minor": 5
}
